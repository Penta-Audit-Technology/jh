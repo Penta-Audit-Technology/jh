{
 "cells": [
  {
   "cell_type": "code",
   "execution_count": null,
   "metadata": {},
   "outputs": [],
   "source": [
    "import pandas as pd\n",
    "import numpy as np\n",
    "import matplotlib.pyplot as plt\n",
    "\n",
    "df = pd.read_csv('',encoding='cp949')\n",
    "df"
   ]
  },
  {
   "cell_type": "markdown",
   "metadata": {},
   "source": [
    "### 피쳐와 레이블 나누기"
   ]
  },
  {
   "cell_type": "code",
   "execution_count": null,
   "metadata": {},
   "outputs": [],
   "source": [
    "x_train = df[]\n",
    "y_train = df[]"
   ]
  },
  {
   "cell_type": "markdown",
   "metadata": {},
   "source": [
    "df.info()"
   ]
  },
  {
   "cell_type": "markdown",
   "metadata": {},
   "source": [
    "### 데이터 분리"
   ]
  },
  {
   "cell_type": "code",
   "execution_count": null,
   "metadata": {},
   "outputs": [],
   "source": [
    "# 기간을 얼마나 나누게 될까요~?\n",
    "x_train = df[:~]\n",
    "x_test = df[~:]\n",
    "y_train = df[:~]\n",
    "y_test = df[~:]\n",
    "\n",
    "print('X 테스트 데이터 :')\n",
    "print(X_test)\n",
    "print('y 테스트 데이터 :')\n",
    "print(list(y_test))"
   ]
  },
  {
   "cell_type": "code",
   "execution_count": null,
   "metadata": {},
   "outputs": [],
   "source": [
    "# 피처, 레이블 데이터 분포 비율\n",
    "\n",
    "train_cnt = y_train.count()\n",
    "test_cnt = y_test.count()\n",
    "print('학습 세트 Shape:{0}, 테스트 세트 Shape:{1}'.format(X_train.shape, X_test.shape))\n",
    "\n",
    "print(' 학습 세트 레이블 값 분포 비율')\n",
    "print(y_train.value_counts()/train_cnt)\n",
    "print('\\n 테스트 세트 레이블 값 분포 비율')\n",
    "print(y_test.value_counts()/train_cnt)"
   ]
  },
  {
   "cell_type": "markdown",
   "metadata": {},
   "source": [
    "### 교차검증 전 정확도 확인"
   ]
  },
  {
   "cell_type": "code",
   "execution_count": null,
   "metadata": {},
   "outputs": [],
   "source": [
    "from sklearn.tree import DecisionTreeClassifier\n",
    "from sklearn.ensemble import RandomForestClassifier\n",
    "from sklearn.linear_model import LogisticRegression\n",
    "import lightgbm as lgb\n",
    "import xgboost as xgb\n",
    "from xgboost import XGBClassifier\n",
    "import tensorflow as tf\n",
    "from sklearn.metrics import accuracy_score, roc_auc_score\n",
    "import numpy as np\n",
    "import time\n",
    "import warnings\n",
    "warnings.filterwarnings('ignore')\n",
    "\n",
    "x_train = df[]\n",
    "y_train = df[]\n",
    "\n",
    "lr_clf = LogisticRegression()\n",
    "rf_clf = RandomForestClassifier(random_state=11, n_jobs=-1)\n",
    "lgb_clf = lgb()\n",
    "xgb_wrapper = XGBClassifier(n_estimators=300, learning_rate=0.1, max_depth=3)\n",
    "\n",
    "# LogisticRegression 학습/예측/평가\n",
    "lr_clf_time = time.time()\n",
    "lr_clf.fit(X_train, y_train)\n",
    "lr_pred = lr_clf.predict(X_test)\n",
    "print('LogisticRegression 정확도: {0:.4f}'.format(accuracy_score(y_test, lr_pred)))\n",
    "print('LogisticRegression roc_auc: {:0.3f}'.format(roc_auc_score(y_test, lr_pred)))\n",
    "print('LogisticRegression 수행 시간: {0:.1f} 초'.format(time.time()-lr_clf_time))\n",
    "\n",
    "# RandomForestClassifier 학습/예측/평가\n",
    "rf_clf_time = time.time()\n",
    "rf_clf.fit(X_train, y_train)\n",
    "rf_pred = rf_clf.predict(X_test)\n",
    "print('\\nRandomForestClassifier 정확도: {0:.4f}'.format(accuracy_score(y_test, rf_pred)))\n",
    "print('RandomForestClassifier roc_auc: {:0.3f}'.format(roc_auc_score(y_test, rf_pred)))\n",
    "print('RandomForest 수행 시간: {0:.1f} 초'.format(time.time()-rf_clf_time))\n",
    "\n",
    "# LightGBM 학습/예측/평가\n",
    "lgb_clf_time = time.time()\n",
    "lgb_clf.fit(x_train, y_train)\n",
    "lgb_pred = lgb_clf.predict(x_test)\n",
    "print('\\nLightGBMGBM 정확도: {0:.4f}'.format(accuracy_score(y_test, lgb_pred)))\n",
    "print('\\nLightGBMGBM roc_auc: {0:.4f}'.format(roc_auc_score(y_test, lgb_pred)))\n",
    "print('\\nLightGBMGBM 수행 시간: {0:.1f} 초'.format(time.time()-lgb_clf_time)))\n",
    "\n",
    "# XGBClassifier 학습/예측/평가\n",
    "xgb_wrapper_time = time.time()\n",
    "xgb_wrapper.fit(X_train, y_train)\n",
    "xgb_pred = xgb_wrapper.predict(X_test)\n",
    "print('\\nXGBC 정확도: {0:.4f}'.format(accuracy_score(y_test, xgb_pred)))\n",
    "print('XGBC roc_auc: {:0.3f}'.format(roc_auc_score(y_test, xgb_pred)))\n",
    "print('XGBC 수행 시간: {0:.1f} 초'.format(time.time()-xgb_wrapper_time))"
   ]
  },
  {
   "cell_type": "markdown",
   "metadata": {},
   "source": [
    "### 데이터검증"
   ]
  },
  {
   "cell_type": "markdown",
   "metadata": {},
   "source": [
    "for i in range(1, STEPS):\n",
    "    col_name = 'd{}'.format(i)\n",
    "    df[col_name] = df['d0'].shift(periods=-1 * i)\n",
    "df = df.dropna()"
   ]
  },
  {
   "cell_type": "code",
   "execution_count": null,
   "metadata": {},
   "outputs": [],
   "source": [
    "X = df.iloc[:, :TRAIN_STEPS]\n",
    "y = df.iloc[:, TRAIN_STEPS:]\n",
    "\n",
    "X_train = X.iloc[:SPLIT_IDX, :]\n",
    "y_train = y.iloc[:SPLIT_IDX, :]\n",
    "\n",
    "X_test = X.iloc[SPLIT_IDX:, :]\n",
    "y_test = y.iloc[SPLIT_IDX:, :]"
   ]
  },
  {
   "cell_type": "code",
   "execution_count": null,
   "metadata": {},
   "outputs": [],
   "source": [
    "def build_model(_alpha, _l1_ratio):\n",
    "    estimator = ElasticNet(\n",
    "        alpha=_alpha,\n",
    "        l1_ratio=_l1_ratio,\n",
    "        fit_intercept=True,\n",
    "        normalize=False,\n",
    "        precompute=False,\n",
    "        max_iter=16,\n",
    "        copy_X=True,\n",
    "        tol=0.1,\n",
    "        warm_start=False,\n",
    "        positive=False,\n",
    "        random_state=None,\n",
    "        selection='random'\n",
    "    )\n",
    "\n",
    "    return MultiOutputRegressor(estimator, n_jobs=4)"
   ]
  },
  {
   "cell_type": "code",
   "execution_count": null,
   "metadata": {},
   "outputs": [],
   "source": [
    "model = build_model(_alpha=1.0, _l1_ratio=0.3)\n",
    "kfcv = KFold(n_splits=5)\n",
    "scores = cross_val_score(model, X_train, y_train, cv=kfcv, scoring=r2)\n",
    "print(\"Loss: {0:.3f} (+/- {1:.3f})\".format(scores.mean(), scores.std()))"
   ]
  },
  {
   "cell_type": "markdown",
   "metadata": {},
   "source": [
    "model = build_model(_alpha=1.0, _l1_ratio=0.3)\n",
    "tscv = TimeSeriesSplit(n_splits=5)\n",
    "scores = cross_val_score(model, X_train, y_train, cv=tscv, scoring=r2)\n",
    "print(\"Loss: {0:.3f} (+/- {1:.3f})\".format(scores.mean(), scores.std()))"
   ]
  },
  {
   "cell_type": "code",
   "execution_count": null,
   "metadata": {},
   "outputs": [],
   "source": [
    "class BlockingTimeSeriesSplit():\n",
    "    def __init__(self, n_splits):\n",
    "        self.n_splits = n_splits\n",
    "    \n",
    "    def get_n_splits(self, X, y, groups):\n",
    "        return self.n_splits\n",
    "    \n",
    "    def split(self, X, y=None, groups=None):\n",
    "        n_samples = len(X)\n",
    "        k_fold_size = n_samples // self.n_splits\n",
    "        indices = np.arange(n_samples)\n",
    "\n",
    "        margin = 0\n",
    "        for i in range(self.n_splits):\n",
    "            start = i * k_fold_size\n",
    "            stop = start + k_fold_size\n",
    "            mid = int(0.8 * (stop - start)) + start\n",
    "            yield indices[start: mid], indices[mid + margin: stop]"
   ]
  }
 ],
 "metadata": {
  "kernelspec": {
   "display_name": "Python 3.9.2 64-bit",
   "language": "python",
   "name": "python3"
  },
  "language_info": {
   "codemirror_mode": {
    "name": "ipython",
    "version": 3
   },
   "file_extension": ".py",
   "mimetype": "text/x-python",
   "name": "python",
   "nbconvert_exporter": "python",
   "pygments_lexer": "ipython3",
   "version": "3.9.2"
  },
  "orig_nbformat": 4,
  "vscode": {
   "interpreter": {
    "hash": "0f8a409a227b6bd6067fb922e0bf5d196c11e3dbc44551f00863c01a656d3bdd"
   }
  }
 },
 "nbformat": 4,
 "nbformat_minor": 2
}
